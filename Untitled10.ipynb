{
 "cells": [
  {
   "cell_type": "code",
   "execution_count": 2,
   "id": "d2e798ff",
   "metadata": {},
   "outputs": [
    {
     "name": "stdout",
     "output_type": "stream",
     "text": [
      "20\n"
     ]
    }
   ],
   "source": [
    "a=4\n",
    "b=5\n",
    "hcf=1\n",
    "for i in range(2,b+1):\n",
    "    if(a%i==0 and b%i==0):\n",
    "        hcf=i\n",
    "lcm=int((a*b)/hcf)\n",
    "print(lcm)"
   ]
  },
  {
   "cell_type": "code",
   "execution_count": 4,
   "id": "32849af4",
   "metadata": {},
   "outputs": [
    {
     "name": "stdout",
     "output_type": "stream",
     "text": [
      "2\n"
     ]
    }
   ],
   "source": [
    "a=4\n",
    "b=6\n",
    "hcf=1\n",
    "for i in range(2,b+1):\n",
    "    if(a%i==0 and b%i==0):\n",
    "        hcf=i\n",
    "print(hcf)"
   ]
  },
  {
   "cell_type": "code",
   "execution_count": 5,
   "id": "a99caa31",
   "metadata": {},
   "outputs": [
    {
     "name": "stdout",
     "output_type": "stream",
     "text": [
      "0b111110100\n",
      "0o764\n",
      "0x1f4\n"
     ]
    }
   ],
   "source": [
    "n=500\n",
    "print(bin(n))\n",
    "print(oct(n))\n",
    "print(hex(n))"
   ]
  },
  {
   "cell_type": "code",
   "execution_count": 10,
   "id": "bb3ded62",
   "metadata": {},
   "outputs": [
    {
     "name": "stdout",
     "output_type": "stream",
     "text": [
      "65\n"
     ]
    }
   ],
   "source": [
    "char='A'\n",
    "print(ord(char))"
   ]
  },
  {
   "cell_type": "code",
   "execution_count": 2,
   "id": "eb7047e2",
   "metadata": {},
   "outputs": [
    {
     "name": "stdout",
     "output_type": "stream",
     "text": [
      "Select operation\n",
      "1. ADD\n",
      "2. SUBTRACT\n",
      "3. MULTIPLY\n",
      "4. DIVIDE\n",
      "Enter the choice: \n",
      "3\n",
      "4\n",
      "5\n",
      "20\n",
      "Want to do again? (yes/no): no\n"
     ]
    }
   ],
   "source": [
    "def add(x,y):\n",
    "    return x+y\n",
    "def sub(x,y):\n",
    "    return x-y\n",
    "def multiply(x,y):\n",
    "    return x*y\n",
    "def divide(x,y):\n",
    "    return x/y\n",
    "print(\"Select operation\")\n",
    "print(\"1. ADD\")\n",
    "print(\"2. SUBTRACT\")\n",
    "print(\"3. MULTIPLY\")\n",
    "print(\"4. DIVIDE\")\n",
    "while True:\n",
    "    print(\"Enter the choice: \")\n",
    "    choice=int(input())\n",
    "    if choice in (1,2,3,4):\n",
    "        a=int(input())\n",
    "        b=int(input())\n",
    "        if choice==1:\n",
    "            print(add(a,b))\n",
    "        elif choice==2:\n",
    "            print(sub(a,b))\n",
    "        elif choice==3:\n",
    "            print(multiply(a,b))\n",
    "        elif choice==4:\n",
    "            print(divide(a,b))\n",
    "        next_calculation=input(\"Want to do again? (yes/no): \")\n",
    "        if next_calculation==\"no\":\n",
    "            break\n",
    "    else:\n",
    "        print(\"Invalid input\")"
   ]
  },
  {
   "cell_type": "code",
   "execution_count": null,
   "id": "b08cf3c1",
   "metadata": {},
   "outputs": [],
   "source": []
  },
  {
   "cell_type": "code",
   "execution_count": null,
   "id": "704ca6cf",
   "metadata": {},
   "outputs": [],
   "source": []
  }
 ],
 "metadata": {
  "kernelspec": {
   "display_name": "Python 3 (ipykernel)",
   "language": "python",
   "name": "python3"
  },
  "language_info": {
   "codemirror_mode": {
    "name": "ipython",
    "version": 3
   },
   "file_extension": ".py",
   "mimetype": "text/x-python",
   "name": "python",
   "nbconvert_exporter": "python",
   "pygments_lexer": "ipython3",
   "version": "3.9.7"
  }
 },
 "nbformat": 4,
 "nbformat_minor": 5
}
